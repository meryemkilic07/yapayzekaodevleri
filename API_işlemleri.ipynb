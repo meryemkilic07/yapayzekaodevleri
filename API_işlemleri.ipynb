{
  "nbformat": 4,
  "nbformat_minor": 0,
  "metadata": {
    "colab": {
      "provenance": [],
      "authorship_tag": "ABX9TyNfSX2w6dqKyci/amP1vlX8",
      "include_colab_link": true
    },
    "kernelspec": {
      "name": "python3",
      "display_name": "Python 3"
    },
    "language_info": {
      "name": "python"
    }
  },
  "cells": [
    {
      "cell_type": "markdown",
      "metadata": {
        "id": "view-in-github",
        "colab_type": "text"
      },
      "source": [
        "<a href=\"https://colab.research.google.com/github/meryemkilic07/yapayzekaodevleri/blob/main/API_i%C5%9Flemleri.ipynb\" target=\"_parent\"><img src=\"https://colab.research.google.com/assets/colab-badge.svg\" alt=\"Open In Colab\"/></a>"
      ]
    },
    {
      "cell_type": "code",
      "execution_count": null,
      "metadata": {
        "colab": {
          "base_uri": "https://localhost:8080/"
        },
        "id": "T_4rNBll-xhf",
        "outputId": "29aebb8e-51ca-4e9c-dc5a-4752229fb8d4"
      },
      "outputs": [
        {
          "output_type": "stream",
          "name": "stdout",
          "text": [
            "{'cod': 401,\n",
            " 'message': 'Invalid API key. Please see '\n",
            "            'https://openweathermap.org/faq#error401 for more info.'}\n",
            "{'cod': 401,\n",
            " 'message': 'Invalid API key. Please see '\n",
            "            'https://openweathermap.org/faq#error401 for more info.'}\n",
            "{'cod': 401,\n",
            " 'message': 'Invalid API key. Please see '\n",
            "            'https://openweathermap.org/faq#error401 for more info.'}\n",
            "[{'city': 'London', 'temperature': 17, 'description': 'Partly Cloudy'}, {'city': 'Paris', 'temperature': 18, 'description': 'Rainy'}]\n"
          ]
        }
      ],
      "source": [
        "import requests\n",
        "from pprint import pprint\n",
        "\n",
        "API_KEY = 'your_api_key_here'\n",
        "\n",
        "# Hava durumu verilerini çekmek için fonksiyon\n",
        "get_weather = lambda city: requests.get(f'http://api.openweathermap.org/data/2.5/weather?q={city}&appid={API_KEY}').json()\n",
        "\n",
        "# Yeni hava durumu verisi eklemek için fonksiyon\n",
        "create_weather = lambda data, weather_data: weather_data.append(data)\n",
        "\n",
        "# Mevcut hava durumu verisini güncellemek için fonksiyon\n",
        "update_weather = lambda city, new_data, weather_data: [data.update(new_data) for data in weather_data if data['city'] == city]\n",
        "\n",
        "# Hava durumu verisini silmek için fonksiyon\n",
        "delete_weather = lambda city, weather_data: list(filter(lambda data: data['city'] != city, weather_data))\n",
        "\n",
        "# Belirli koordinatlara göre hava durumu verisi almak için fonksiyon\n",
        "get_weather_by_coordinates = lambda lat, lon: requests.get(f'http://api.openweathermap.org/data/2.5/weather?lat={lat}&lon={lon}&appid={API_KEY}').json()\n",
        "\n",
        "# Şehir ID'lerine göre hava durumu verisi almak için fonksiyon\n",
        "get_weather_by_city_ids = lambda city_ids: requests.get(f'http://api.openweathermap.org/data/2.5/group?id={\",\".join(map(str, city_ids))}&appid={API_KEY}').json()\n",
        "\n",
        "# Örnek hava durumu verileri listesi\n",
        "weather_data = [\n",
        "    {'city': 'London', 'temperature': 15, 'description': 'Cloudy'},\n",
        "    {'city': 'New York', 'temperature': 20, 'description': 'Sunny'}\n",
        "]\n",
        "\n",
        "# Fonksiyonları sözlük içinde listeleyelim\n",
        "crud_operations = {\n",
        "    \"get_weather\": get_weather,\n",
        "    \"create_weather\": create_weather,\n",
        "    \"update_weather\": update_weather,\n",
        "    \"delete_weather\": delete_weather,\n",
        "    \"get_weather_by_coordinates\": get_weather_by_coordinates,\n",
        "    \"get_weather_by_city_ids\": get_weather_by_city_ids\n",
        "}\n",
        "\n",
        "# CRUD ve filtreleme işlemlerini gerçekleştirelim\n",
        "city_weather = crud_operations[\"get_weather\"]('Mersin')\n",
        "pprint(city_weather)\n",
        "\n",
        "crud_operations[\"create_weather\"]({'city': 'Paris', 'temperature': 18, 'description': 'Rainy'}, weather_data)\n",
        "crud_operations[\"update_weather\"]('London', {'temperature': 17, 'description': 'Partly Cloudy'}, weather_data)\n",
        "weather_data = crud_operations[\"delete_weather\"]('New York', weather_data)\n",
        "\n",
        "coordinates_weather = crud_operations[\"get_weather_by_coordinates\"](36.8121, 34.6415)\n",
        "pprint(coordinates_weather)\n",
        "\n",
        "city_ids_weather = crud_operations[\"get_weather_by_city_ids\"]([524901, 703448, 2643743])\n",
        "pprint(city_ids_weather)\n",
        "\n",
        "print(weather_data)\n"
      ]
    }
  ]
}