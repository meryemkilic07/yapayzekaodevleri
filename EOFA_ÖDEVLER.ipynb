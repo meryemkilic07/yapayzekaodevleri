{
  "nbformat": 4,
  "nbformat_minor": 0,
  "metadata": {
    "colab": {
      "provenance": [],
      "authorship_tag": "ABX9TyM7sN0E1buNY6aPFmn3rivv",
      "include_colab_link": true
    },
    "kernelspec": {
      "name": "python3",
      "display_name": "Python 3"
    },
    "language_info": {
      "name": "python"
    }
  },
  "cells": [
    {
      "cell_type": "markdown",
      "metadata": {
        "id": "view-in-github",
        "colab_type": "text"
      },
      "source": [
        "<a href=\"https://colab.research.google.com/github/meryemkilic07/yapayzekaodevleri/blob/main/EOFA_%C3%96DEVLER.ipynb\" target=\"_parent\"><img src=\"https://colab.research.google.com/assets/colab-badge.svg\" alt=\"Open In Colab\"/></a>"
      ]
    },
    {
      "cell_type": "markdown",
      "source": [
        "***API_İŞLEMLERİ***"
      ],
      "metadata": {
        "id": "X0iPUgApbBQ6"
      }
    },
    {
      "cell_type": "code",
      "execution_count": null,
      "metadata": {
        "colab": {
          "base_uri": "https://localhost:8080/"
        },
        "id": "T_4rNBll-xhf",
        "outputId": "29aebb8e-51ca-4e9c-dc5a-4752229fb8d4"
      },
      "outputs": [
        {
          "output_type": "stream",
          "name": "stdout",
          "text": [
            "{'cod': 401,\n",
            " 'message': 'Invalid API key. Please see '\n",
            "            'https://openweathermap.org/faq#error401 for more info.'}\n",
            "{'cod': 401,\n",
            " 'message': 'Invalid API key. Please see '\n",
            "            'https://openweathermap.org/faq#error401 for more info.'}\n",
            "{'cod': 401,\n",
            " 'message': 'Invalid API key. Please see '\n",
            "            'https://openweathermap.org/faq#error401 for more info.'}\n",
            "[{'city': 'London', 'temperature': 17, 'description': 'Partly Cloudy'}, {'city': 'Paris', 'temperature': 18, 'description': 'Rainy'}]\n"
          ]
        }
      ],
      "source": [
        "import requests\n",
        "from pprint import pprint\n",
        "\n",
        "API_KEY = 'your_api_key_here'\n",
        "\n",
        "# Hava durumu verilerini çekmek için fonksiyon\n",
        "get_weather = lambda city: requests.get(f'http://api.openweathermap.org/data/2.5/weather?q={city}&appid={API_KEY}').json()\n",
        "\n",
        "# Yeni hava durumu verisi eklemek için fonksiyon\n",
        "create_weather = lambda data, weather_data: weather_data.append(data)\n",
        "\n",
        "# Mevcut hava durumu verisini güncellemek için fonksiyon\n",
        "update_weather = lambda city, new_data, weather_data: [data.update(new_data) for data in weather_data if data['city'] == city]\n",
        "\n",
        "# Hava durumu verisini silmek için fonksiyon\n",
        "delete_weather = lambda city, weather_data: list(filter(lambda data: data['city'] != city, weather_data))\n",
        "\n",
        "# Belirli koordinatlara göre hava durumu verisi almak için fonksiyon\n",
        "get_weather_by_coordinates = lambda lat, lon: requests.get(f'http://api.openweathermap.org/data/2.5/weather?lat={lat}&lon={lon}&appid={API_KEY}').json()\n",
        "\n",
        "# Şehir ID'lerine göre hava durumu verisi almak için fonksiyon\n",
        "get_weather_by_city_ids = lambda city_ids: requests.get(f'http://api.openweathermap.org/data/2.5/group?id={\",\".join(map(str, city_ids))}&appid={API_KEY}').json()\n",
        "\n",
        "# Örnek hava durumu verileri listesi\n",
        "weather_data = [\n",
        "    {'city': 'London', 'temperature': 15, 'description': 'Cloudy'},\n",
        "    {'city': 'New York', 'temperature': 20, 'description': 'Sunny'}\n",
        "]\n",
        "\n",
        "# Fonksiyonları sözlük içinde listeleyelim\n",
        "crud_operations = {\n",
        "    \"get_weather\": get_weather,\n",
        "    \"create_weather\": create_weather,\n",
        "    \"update_weather\": update_weather,\n",
        "    \"delete_weather\": delete_weather,\n",
        "    \"get_weather_by_coordinates\": get_weather_by_coordinates,\n",
        "    \"get_weather_by_city_ids\": get_weather_by_city_ids\n",
        "}\n",
        "\n",
        "# CRUD ve filtreleme işlemlerini gerçekleştirelim\n",
        "city_weather = crud_operations[\"get_weather\"]('Mersin')\n",
        "pprint(city_weather)\n",
        "\n",
        "crud_operations[\"create_weather\"]({'city': 'Paris', 'temperature': 18, 'description': 'Rainy'}, weather_data)\n",
        "crud_operations[\"update_weather\"]('London', {'temperature': 17, 'description': 'Partly Cloudy'}, weather_data)\n",
        "weather_data = crud_operations[\"delete_weather\"]('New York', weather_data)\n",
        "\n",
        "coordinates_weather = crud_operations[\"get_weather_by_coordinates\"](36.8121, 34.6415)\n",
        "pprint(coordinates_weather)\n",
        "\n",
        "city_ids_weather = crud_operations[\"get_weather_by_city_ids\"]([524901, 703448, 2643743])\n",
        "pprint(city_ids_weather)\n",
        "\n",
        "print(weather_data)\n"
      ]
    },
    {
      "cell_type": "code",
      "source": [],
      "metadata": {
        "id": "JDMrzjVAaLft"
      },
      "execution_count": null,
      "outputs": []
    },
    {
      "cell_type": "markdown",
      "source": [
        "## ***#OOP_Örnekleri:***\n"
      ],
      "metadata": {
        "id": "wXmzBlBDadRw"
      }
    },
    {
      "cell_type": "code",
      "source": [
        "#class ile ilgili örnekler\n",
        "#örnek-1\n",
        "class Person:\n",
        "    def __init__(self, name, age):\n",
        "        self.name = name\n",
        "        self.age = age\n",
        "\n",
        "    def display_info(self):\n",
        "        print(f\"Name: {self.name}, Age: {self.age}\")\n",
        "\n",
        "person1 = Person(\"Meryem\", 25)\n",
        "person1.display_info()\n",
        "#örnek-2\n",
        "class Car:\n",
        "    def __init__(self, make, model, year):\n",
        "        self.make = make\n",
        "        self.model = model\n",
        "        self.year = year\n",
        "\n",
        "    def start_engine(self):\n",
        "        print(f\"The {self.year} {self.make} {self.model} engine is now running.\")\n",
        "\n",
        "    def display_info(self):\n",
        "        print(f\"Make: {self.make}, Model: {self.model}, Year: {self.year}\")\n",
        "\n",
        "car1 = Car(\"Toyota\", \"Camry\", 2020)\n",
        "car1.display_info()\n",
        "car1.start_engine()\n"
      ],
      "metadata": {
        "id": "KJGqywXDaqXJ"
      },
      "execution_count": null,
      "outputs": []
    },
    {
      "cell_type": "code",
      "source": [
        "#Inheritance örnekleri\n",
        "#örnek-1\n",
        "class Animal:\n",
        "    def __init__(self, name):\n",
        "        self.name = name\n",
        "\n",
        "    def make_sound(self):\n",
        "        print(f\"{self.name} makes a sound.\")\n",
        "\n",
        "class Dog(Animal):\n",
        "    def make_sound(self):\n",
        "        print(f\"{self.name} barks.\")\n",
        "\n",
        "dog1 = Dog(\"Rex\")\n",
        "dog1.make_sound()\n",
        "#örnek-2\n",
        "class Vehicle:\n",
        "    def __init__(self, make, model):\n",
        "        self.make = make\n",
        "        self.model = model\n",
        "\n",
        "    def drive(self):\n",
        "        print(f\"Driving the {self.make} {self.model}\")\n",
        "\n",
        "class ElectricCar(Vehicle):\n",
        "    def __init__(self, make, model, battery_size):\n",
        "        super().__init__(make, model)\n",
        "        self.battery_size = battery_size\n",
        "\n",
        "    def drive(self):\n",
        "        print(f\"Driving the {self.make} {self.model} with a {self.battery_size} kWh battery\")\n",
        "\n",
        "tesla = ElectricCar(\"Tesla\", \"Model S\", 100)\n",
        "tesla.drive()\n"
      ],
      "metadata": {
        "id": "9aG8JST3bmmF"
      },
      "execution_count": null,
      "outputs": []
    },
    {
      "cell_type": "code",
      "source": [
        "#Polymorphism örnekleri\n",
        "#örnek-1\n",
        "class Bird:\n",
        "    def fly(self):\n",
        "        print(\"Birds can fly\")\n",
        "\n",
        "class Penguin(Bird):\n",
        "    def fly(self):\n",
        "        print(\"Penguins can't fly\")\n",
        "\n",
        "def can_it_fly(bird):\n",
        "    bird.fly()\n",
        "\n",
        "sparrow = Bird()\n",
        "penguin = Penguin()\n",
        "\n",
        "can_it_fly(sparrow)\n",
        "can_it_fly(penguin)\n",
        "\n",
        "#örnek-2\n",
        "class Shape:\n",
        "    def area(self):\n",
        "        pass\n",
        "\n",
        "class Rectangle(Shape):\n",
        "    def __init__(self, width, height):\n",
        "        self.width = width\n",
        "        self.height = height\n",
        "\n",
        "    def area(self):\n",
        "        return self.width * self.height\n",
        "\n",
        "class Circle(Shape):\n",
        "    def __init__(self, radius):\n",
        "        self.radius = radius\n",
        "\n",
        "    def area(self):\n",
        "        return 3.14 * (self.radius ** 2)\n",
        "\n",
        "shapes = [Rectangle(4, 5), Circle(3)]\n",
        "\n",
        "for shape in shapes:\n",
        "    print(f\"The area is {shape.area()}\")\n"
      ],
      "metadata": {
        "id": "_QNNEsmeb_eI"
      },
      "execution_count": null,
      "outputs": []
    },
    {
      "cell_type": "code",
      "source": [
        "#Encapsulation örnekleri\n",
        "#örnek-1\n",
        "class BankAccount:\n",
        "    def __init__(self, owner, balance):\n",
        "        self.owner = owner\n",
        "        self.__balance = balance\n",
        "\n",
        "    def deposit(self, amount):\n",
        "        self.__balance += amount\n",
        "\n",
        "    def get_balance(self):\n",
        "        return self.__balance\n",
        "\n",
        "account = BankAccount(\"Meryem\", 1000)\n",
        "account.deposit(500)\n",
        "print(account.get_balance())\n",
        "\n",
        "#örnek-2\n",
        "class Student:\n",
        "    def __init__(self, name, age):\n",
        "        self.name = name\n",
        "        self.__age = age\n",
        "\n",
        "    def set_age(self, age):\n",
        "        if age > 0:\n",
        "            self.__age = age\n",
        "        else:\n",
        "            print(\"Please enter a valid age\")\n",
        "\n",
        "    def get_age(self):\n",
        "        return self.__age\n",
        "\n",
        "student1 = Student(\"Ali\", 20)\n",
        "student1.set_age(21)\n",
        "print(student1.get_age())\n"
      ],
      "metadata": {
        "id": "fP8Mvt6rcS7q"
      },
      "execution_count": null,
      "outputs": []
    },
    {
      "cell_type": "code",
      "source": [
        "#Method Overriding örnekleri\n",
        "#örnek-1\n",
        "class Parent:\n",
        "    def display(self):\n",
        "        print(\"This is the parent class.\")\n",
        "\n",
        "class Child(Parent):\n",
        "    def display(self):\n",
        "        print(\"This is the child class.\")\n",
        "\n",
        "child1 = Child()\n",
        "child1.display()\n",
        "\n",
        "#örnek-2\n",
        "class Animal:\n",
        "    def speak(self):\n",
        "        print(\"The animal speaks\")\n",
        "\n",
        "class Cat(Animal):\n",
        "    def speak(self):\n",
        "        print(\"The cat meows\")\n",
        "\n",
        "cat1 = Cat()\n",
        "cat1.speak()\n"
      ],
      "metadata": {
        "id": "vt3a5WfNcTcN"
      },
      "execution_count": null,
      "outputs": []
    },
    {
      "cell_type": "code",
      "source": [
        "#Abstraction örnekleri\n",
        "#örnek-1\n",
        "from abc import ABC, abstractmethod\n",
        "\n",
        "class Animal(ABC):\n",
        "    @abstractmethod\n",
        "    def sound(self):\n",
        "        pass\n",
        "\n",
        "class Dog(Animal):\n",
        "    def sound(self):\n",
        "        return \"Bark\"\n",
        "\n",
        "dog1 = Dog()\n",
        "print(dog1.sound())\n",
        "\n",
        "#örnek-2\n",
        "from abc import ABC, abstractmethod\n",
        "\n",
        "class Shape(ABC):\n",
        "    @abstractmethod\n",
        "    def area(self):\n",
        "        pass\n",
        "\n",
        "class Square(Shape):\n",
        "    def __init__(self, side_length):\n",
        "        self.side_length = side_length\n",
        "\n",
        "    def area(self):\n",
        "        return self.side_length ** 2\n",
        "\n",
        "square = Square(4)\n",
        "print(square.area())\n"
      ],
      "metadata": {
        "id": "tSNNEWfCcTkL"
      },
      "execution_count": null,
      "outputs": []
    },
    {
      "cell_type": "code",
      "source": [
        "#init method örnekleri\n",
        "#örnek-1\n",
        "class Book:\n",
        "    def __init__(self, title, author):\n",
        "        self.title = title\n",
        "        self.author = author\n",
        "\n",
        "    def get_info(self):\n",
        "        return f\"'{self.title}' by {self.author}\"\n",
        "\n",
        "book1 = Book(\"1984\", \"George Orwell\")\n",
        "print(book1.get_info())\n",
        "\n",
        "#örnek-2\n",
        "class Employee:\n",
        "    def __init__(self, name, position, salary):\n",
        "        self.name = name\n",
        "        self.position = position\n",
        "        self.salary = salary\n",
        "\n",
        "    def get_details(self):\n",
        "        return f\"{self.name} is a {self.position} earning ${self.salary} per year.\"\n",
        "\n",
        "employee1 = Employee(\"John Doe\", \"Software Engineer\", 100000)\n",
        "print(employee1.get_details())\n"
      ],
      "metadata": {
        "id": "MLkF6iTrcTqg"
      },
      "execution_count": null,
      "outputs": []
    }
  ]
}