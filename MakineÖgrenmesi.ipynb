{
  "nbformat": 4,
  "nbformat_minor": 0,
  "metadata": {
    "colab": {
      "provenance": [],
      "authorship_tag": "ABX9TyPvIR+QGOab+w7ywkH2DgPn",
      "include_colab_link": true
    },
    "kernelspec": {
      "name": "python3",
      "display_name": "Python 3"
    },
    "language_info": {
      "name": "python"
    }
  },
  "cells": [
    {
      "cell_type": "markdown",
      "metadata": {
        "id": "view-in-github",
        "colab_type": "text"
      },
      "source": [
        "<a href=\"https://colab.research.google.com/github/meryemkilic07/yapayzekaodevleri/blob/main/Makine%C3%96grenmesi.ipynb\" target=\"_parent\"><img src=\"https://colab.research.google.com/assets/colab-badge.svg\" alt=\"Open In Colab\"/></a>"
      ]
    },
    {
      "cell_type": "code",
      "execution_count": null,
      "metadata": {
        "id": "AZ4Ij1iJpuHR"
      },
      "outputs": [],
      "source": [
        "# 📌 Gerekli Kütüphaneler\n",
        "import pandas as pd\n",
        "import numpy as np\n",
        "import matplotlib.pyplot as plt\n",
        "import seaborn as sns\n",
        "from scipy import stats\n",
        "\n",
        "from sklearn.model_selection import train_test_split\n",
        "from sklearn.preprocessing import MinMaxScaler, StandardScaler, LabelEncoder, PowerTransformer\n",
        "from sklearn.linear_model import LinearRegression\n",
        "from sklearn.metrics import mean_squared_error, r2_score\n",
        "\n",
        "# 🔹 1. Veri Setini Yükleme\n",
        "df = pd.read_csv('/content/house_price.csv')  # Dosya adını kontrol et!\n",
        "\n",
        "# 🔹 2. Veri Ön İşleme\n",
        "print(df.info())  # Eksik verileri ve veri türlerini inceleyelim\n",
        "\n",
        "# Eksik verileri dolduralım\n",
        "df.fillna(df.mean(), inplace=True)  # Ortalama ile doldurma\n",
        "\n",
        "# Kategorik değişkenleri sayısallaştırma\n",
        "le = LabelEncoder()\n",
        "df['location'] = le.fit_transform(df['location'])\n",
        "\n",
        "# Korelasyon analizi\n",
        "plt.figure(figsize=(10,6))\n",
        "sns.heatmap(df.corr(), annot=True, cmap='coolwarm')\n",
        "plt.title(\"Korelasyon Matrisi\")\n",
        "plt.show()\n",
        "\n",
        "# 🔹 3. Normalizasyon ve D'Agostino K² Testi\n",
        "scaler = StandardScaler()\n",
        "df_scaled = scaler.fit_transform(df[['area', 'price']])  # Normalizasyon\n",
        "stat, p = stats.normaltest(df_scaled[:,1])  # p-value hesaplama\n",
        "print(f\"D'Agostino K² Testi -> p-value: {p}\")\n",
        "\n",
        "# Normallik kontrolü\n",
        "if p < 0.05:\n"
      ]
    }
  ]
}