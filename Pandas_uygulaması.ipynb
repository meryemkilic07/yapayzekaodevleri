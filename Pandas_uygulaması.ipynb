{
  "nbformat": 4,
  "nbformat_minor": 0,
  "metadata": {
    "colab": {
      "provenance": [],
      "authorship_tag": "ABX9TyPPvUAympx45IGcNOpal9V3",
      "include_colab_link": true
    },
    "kernelspec": {
      "name": "python3",
      "display_name": "Python 3"
    },
    "language_info": {
      "name": "python"
    }
  },
  "cells": [
    {
      "cell_type": "markdown",
      "metadata": {
        "id": "view-in-github",
        "colab_type": "text"
      },
      "source": [
        "<a href=\"https://colab.research.google.com/github/meryemkilic07/yapayzekaodevleri/blob/main/Pandas_uygulamas%C4%B1.ipynb\" target=\"_parent\"><img src=\"https://colab.research.google.com/assets/colab-badge.svg\" alt=\"Open In Colab\"/></a>"
      ]
    },
    {
      "cell_type": "code",
      "execution_count": null,
      "metadata": {
        "id": "Xq5G9WNBn6_g"
      },
      "outputs": [],
      "source": [
        "import pandas as pd\n",
        "import numpy as np\n",
        "import matplotlib.pyplot as plt\n",
        "import seaborn as sns\n",
        "\n",
        "\n",
        "df = pd.read_csv(\"tmdb_5000_movies.csv\")\n",
        "df.head()\n"
      ]
    },
    {
      "cell_type": "code",
      "source": [
        "# Eksik değerleri bul ve doldur\n",
        "df.isnull().sum()\n",
        "\n",
        "# Eksik değerleri uygun şekilde doldurma\n",
        "df['runtime'].fillna(df['runtime'].median(), inplace=True)\n"
      ],
      "metadata": {
        "id": "7xHf34H0oHEv"
      },
      "execution_count": null,
      "outputs": []
    },
    {
      "cell_type": "code",
      "source": [
        "# Standardizasyon\n",
        "from sklearn.preprocessing import StandardScaler\n",
        "\n",
        "scaler = StandardScaler()\n",
        "df['popularity_standardized'] = scaler.fit_transform(df[['popularity']])\n",
        "\n",
        "# Normalizasyon\n",
        "df['budget_normalized'] = (df['budget'] - df['budget'].min()) / (df['budget'].max() - df['budget'].min())\n"
      ],
      "metadata": {
        "id": "_DEmBEYXoJ8P"
      },
      "execution_count": null,
      "outputs": []
    },
    {
      "cell_type": "code",
      "source": [
        "# En popüler 10 filmi görselleştirme\n",
        "top_10 = df.nlargest(10, 'popularity')\n",
        "plt.figure(figsize=(10, 6))\n",
        "sns.barplot(x=top_10['title'], y=top_10['popularity'])\n",
        "plt.xticks(rotation=45)\n",
        "plt.title(\"En Popüler 10 Film\")\n",
        "plt.show()\n"
      ],
      "metadata": {
        "id": "GcBpVwIEoNxH"
      },
      "execution_count": null,
      "outputs": []
    },
    {
      "cell_type": "code",
      "source": [
        "# Tür bazında ortalama bütçeyi hesaplama\n",
        "genre_budget = df.groupby('genres')['budget'].mean()\n",
        "print(genre_budget)\n"
      ],
      "metadata": {
        "id": "-zjM6kcaoRFJ"
      },
      "execution_count": null,
      "outputs": []
    },
    {
      "cell_type": "code",
      "source": [
        "# Belirli bir koşulu seçme\n",
        "high_rating = df.query('vote_average > 8.0')\n",
        "high_rating[['title', 'vote_average']]\n"
      ],
      "metadata": {
        "id": "XN0TBndDoUc1"
      },
      "execution_count": null,
      "outputs": []
    },
    {
      "cell_type": "code",
      "source": [
        "# Örnek olarak iki tabloyu birleştirme\n",
        "other_df = pd.read_csv(\"tmdb_5000_credits.csv\")\n",
        "merged_df = pd.merge(df, other_df, on='id', how='inner')\n",
        "merged_df.head()\n"
      ],
      "metadata": {
        "id": "JoCDWwoLoaSt"
      },
      "execution_count": null,
      "outputs": []
    },
    {
      "cell_type": "code",
      "source": [
        "# Ortalama popülariteye göre filmleri analiz etme\n",
        "average_popularity = df['popularity'].mean()\n",
        "print(\"Ortalama Popülerlik:\", average_popularity)\n"
      ],
      "metadata": {
        "id": "e7Ja7As6ocEL"
      },
      "execution_count": null,
      "outputs": []
    },
    {
      "cell_type": "code",
      "source": [],
      "metadata": {
        "id": "NnoWPv8roeUW"
      },
      "execution_count": null,
      "outputs": []
    }
  ]
}